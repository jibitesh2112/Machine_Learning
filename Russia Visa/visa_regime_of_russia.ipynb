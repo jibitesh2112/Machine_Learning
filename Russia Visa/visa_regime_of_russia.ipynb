{
  "nbformat": 4,
  "nbformat_minor": 0,
  "metadata": {
    "colab": {
      "name": "visa_regime_of_russia.ipynb",
      "provenance": [],
      "collapsed_sections": []
    },
    "kernelspec": {
      "name": "python3",
      "display_name": "Python 3"
    },
    "language_info": {
      "name": "python"
    }
  },
  "cells": [
    {
      "cell_type": "code",
      "execution_count": 37,
      "metadata": {
        "id": "oWEF7jMMDS4U"
      },
      "outputs": [],
      "source": [
        "import pandas as pd\n",
        "import matplotlib.pyplot as plt\n",
        "import numpy as np\n",
        "import seaborn as sns\n",
        "import os, sys\n",
        "import warnings\n",
        "%matplotlib inline"
      ]
    },
    {
      "cell_type": "code",
      "source": [
        "df=pd.read_csv(\"/content/drive/MyDrive/Colab Notebooks/VisaRegime1.csv\")"
      ],
      "metadata": {
        "id": "l2NwFHndDx4p"
      },
      "execution_count": 38,
      "outputs": []
    },
    {
      "cell_type": "code",
      "source": [
        "df"
      ],
      "metadata": {
        "colab": {
          "base_uri": "https://localhost:8080/",
          "height": 424
        },
        "id": "zWRPvmjOEs_E",
        "outputId": "d6abe57f-8227-4595-b14f-52958734593a"
      },
      "execution_count": 39,
      "outputs": [
        {
          "output_type": "execute_result",
          "data": {
            "text/plain": [
              "           Country                        Diplomatic_passport  \\\n",
              "0         Abkhazia                  Visa-free (up to 90 days)   \n",
              "1        Australia                                       Visa   \n",
              "2          Austria  Visa-free (up to 90 days within 180 days)   \n",
              "3       Azerbaijan                                  visa-free   \n",
              "4          Albania                  Visa-free (up to 90 days)   \n",
              "..             ...                                        ...   \n",
              "191   South Africa                  Visa-free (up to 90 days)   \n",
              "192  South Ossetia                                  visa-free   \n",
              "193    South Sudan                                       Visa   \n",
              "194        Jamaica                  Visa-free (up to 90 days)   \n",
              "195          Japan                                       Visa   \n",
              "\n",
              "              Service_passport             Civil_passport  \n",
              "0    Visa-free (up to 90 days)  Visa-free (up to 90 days)  \n",
              "1                         Visa                       Visa  \n",
              "2                         Visa                       Visa  \n",
              "3                    visa-free                  visa-free  \n",
              "4    Visa-free (up to 90 days)                       Visa  \n",
              "..                         ...                        ...  \n",
              "191  Visa-free (up to 90 days)  Visa-free (up to 90 days)  \n",
              "192                  visa-free                  visa-free  \n",
              "193                       Visa                       Visa  \n",
              "194  Visa-free (up to 90 days)  Visa-free (up to 30 days)  \n",
              "195                       Visa                       Visa  \n",
              "\n",
              "[196 rows x 4 columns]"
            ],
            "text/html": [
              "\n",
              "  <div id=\"df-f0996991-7a06-45c3-b46d-8232a3a4f94d\">\n",
              "    <div class=\"colab-df-container\">\n",
              "      <div>\n",
              "<style scoped>\n",
              "    .dataframe tbody tr th:only-of-type {\n",
              "        vertical-align: middle;\n",
              "    }\n",
              "\n",
              "    .dataframe tbody tr th {\n",
              "        vertical-align: top;\n",
              "    }\n",
              "\n",
              "    .dataframe thead th {\n",
              "        text-align: right;\n",
              "    }\n",
              "</style>\n",
              "<table border=\"1\" class=\"dataframe\">\n",
              "  <thead>\n",
              "    <tr style=\"text-align: right;\">\n",
              "      <th></th>\n",
              "      <th>Country</th>\n",
              "      <th>Diplomatic_passport</th>\n",
              "      <th>Service_passport</th>\n",
              "      <th>Civil_passport</th>\n",
              "    </tr>\n",
              "  </thead>\n",
              "  <tbody>\n",
              "    <tr>\n",
              "      <th>0</th>\n",
              "      <td>Abkhazia</td>\n",
              "      <td>Visa-free (up to 90 days)</td>\n",
              "      <td>Visa-free (up to 90 days)</td>\n",
              "      <td>Visa-free (up to 90 days)</td>\n",
              "    </tr>\n",
              "    <tr>\n",
              "      <th>1</th>\n",
              "      <td>Australia</td>\n",
              "      <td>Visa</td>\n",
              "      <td>Visa</td>\n",
              "      <td>Visa</td>\n",
              "    </tr>\n",
              "    <tr>\n",
              "      <th>2</th>\n",
              "      <td>Austria</td>\n",
              "      <td>Visa-free (up to 90 days within 180 days)</td>\n",
              "      <td>Visa</td>\n",
              "      <td>Visa</td>\n",
              "    </tr>\n",
              "    <tr>\n",
              "      <th>3</th>\n",
              "      <td>Azerbaijan</td>\n",
              "      <td>visa-free</td>\n",
              "      <td>visa-free</td>\n",
              "      <td>visa-free</td>\n",
              "    </tr>\n",
              "    <tr>\n",
              "      <th>4</th>\n",
              "      <td>Albania</td>\n",
              "      <td>Visa-free (up to 90 days)</td>\n",
              "      <td>Visa-free (up to 90 days)</td>\n",
              "      <td>Visa</td>\n",
              "    </tr>\n",
              "    <tr>\n",
              "      <th>...</th>\n",
              "      <td>...</td>\n",
              "      <td>...</td>\n",
              "      <td>...</td>\n",
              "      <td>...</td>\n",
              "    </tr>\n",
              "    <tr>\n",
              "      <th>191</th>\n",
              "      <td>South Africa</td>\n",
              "      <td>Visa-free (up to 90 days)</td>\n",
              "      <td>Visa-free (up to 90 days)</td>\n",
              "      <td>Visa-free (up to 90 days)</td>\n",
              "    </tr>\n",
              "    <tr>\n",
              "      <th>192</th>\n",
              "      <td>South Ossetia</td>\n",
              "      <td>visa-free</td>\n",
              "      <td>visa-free</td>\n",
              "      <td>visa-free</td>\n",
              "    </tr>\n",
              "    <tr>\n",
              "      <th>193</th>\n",
              "      <td>South Sudan</td>\n",
              "      <td>Visa</td>\n",
              "      <td>Visa</td>\n",
              "      <td>Visa</td>\n",
              "    </tr>\n",
              "    <tr>\n",
              "      <th>194</th>\n",
              "      <td>Jamaica</td>\n",
              "      <td>Visa-free (up to 90 days)</td>\n",
              "      <td>Visa-free (up to 90 days)</td>\n",
              "      <td>Visa-free (up to 30 days)</td>\n",
              "    </tr>\n",
              "    <tr>\n",
              "      <th>195</th>\n",
              "      <td>Japan</td>\n",
              "      <td>Visa</td>\n",
              "      <td>Visa</td>\n",
              "      <td>Visa</td>\n",
              "    </tr>\n",
              "  </tbody>\n",
              "</table>\n",
              "<p>196 rows × 4 columns</p>\n",
              "</div>\n",
              "      <button class=\"colab-df-convert\" onclick=\"convertToInteractive('df-f0996991-7a06-45c3-b46d-8232a3a4f94d')\"\n",
              "              title=\"Convert this dataframe to an interactive table.\"\n",
              "              style=\"display:none;\">\n",
              "        \n",
              "  <svg xmlns=\"http://www.w3.org/2000/svg\" height=\"24px\"viewBox=\"0 0 24 24\"\n",
              "       width=\"24px\">\n",
              "    <path d=\"M0 0h24v24H0V0z\" fill=\"none\"/>\n",
              "    <path d=\"M18.56 5.44l.94 2.06.94-2.06 2.06-.94-2.06-.94-.94-2.06-.94 2.06-2.06.94zm-11 1L8.5 8.5l.94-2.06 2.06-.94-2.06-.94L8.5 2.5l-.94 2.06-2.06.94zm10 10l.94 2.06.94-2.06 2.06-.94-2.06-.94-.94-2.06-.94 2.06-2.06.94z\"/><path d=\"M17.41 7.96l-1.37-1.37c-.4-.4-.92-.59-1.43-.59-.52 0-1.04.2-1.43.59L10.3 9.45l-7.72 7.72c-.78.78-.78 2.05 0 2.83L4 21.41c.39.39.9.59 1.41.59.51 0 1.02-.2 1.41-.59l7.78-7.78 2.81-2.81c.8-.78.8-2.07 0-2.86zM5.41 20L4 18.59l7.72-7.72 1.47 1.35L5.41 20z\"/>\n",
              "  </svg>\n",
              "      </button>\n",
              "      \n",
              "  <style>\n",
              "    .colab-df-container {\n",
              "      display:flex;\n",
              "      flex-wrap:wrap;\n",
              "      gap: 12px;\n",
              "    }\n",
              "\n",
              "    .colab-df-convert {\n",
              "      background-color: #E8F0FE;\n",
              "      border: none;\n",
              "      border-radius: 50%;\n",
              "      cursor: pointer;\n",
              "      display: none;\n",
              "      fill: #1967D2;\n",
              "      height: 32px;\n",
              "      padding: 0 0 0 0;\n",
              "      width: 32px;\n",
              "    }\n",
              "\n",
              "    .colab-df-convert:hover {\n",
              "      background-color: #E2EBFA;\n",
              "      box-shadow: 0px 1px 2px rgba(60, 64, 67, 0.3), 0px 1px 3px 1px rgba(60, 64, 67, 0.15);\n",
              "      fill: #174EA6;\n",
              "    }\n",
              "\n",
              "    [theme=dark] .colab-df-convert {\n",
              "      background-color: #3B4455;\n",
              "      fill: #D2E3FC;\n",
              "    }\n",
              "\n",
              "    [theme=dark] .colab-df-convert:hover {\n",
              "      background-color: #434B5C;\n",
              "      box-shadow: 0px 1px 3px 1px rgba(0, 0, 0, 0.15);\n",
              "      filter: drop-shadow(0px 1px 2px rgba(0, 0, 0, 0.3));\n",
              "      fill: #FFFFFF;\n",
              "    }\n",
              "  </style>\n",
              "\n",
              "      <script>\n",
              "        const buttonEl =\n",
              "          document.querySelector('#df-f0996991-7a06-45c3-b46d-8232a3a4f94d button.colab-df-convert');\n",
              "        buttonEl.style.display =\n",
              "          google.colab.kernel.accessAllowed ? 'block' : 'none';\n",
              "\n",
              "        async function convertToInteractive(key) {\n",
              "          const element = document.querySelector('#df-f0996991-7a06-45c3-b46d-8232a3a4f94d');\n",
              "          const dataTable =\n",
              "            await google.colab.kernel.invokeFunction('convertToInteractive',\n",
              "                                                     [key], {});\n",
              "          if (!dataTable) return;\n",
              "\n",
              "          const docLinkHtml = 'Like what you see? Visit the ' +\n",
              "            '<a target=\"_blank\" href=https://colab.research.google.com/notebooks/data_table.ipynb>data table notebook</a>'\n",
              "            + ' to learn more about interactive tables.';\n",
              "          element.innerHTML = '';\n",
              "          dataTable['output_type'] = 'display_data';\n",
              "          await google.colab.output.renderOutput(dataTable, element);\n",
              "          const docLink = document.createElement('div');\n",
              "          docLink.innerHTML = docLinkHtml;\n",
              "          element.appendChild(docLink);\n",
              "        }\n",
              "      </script>\n",
              "    </div>\n",
              "  </div>\n",
              "  "
            ]
          },
          "metadata": {},
          "execution_count": 39
        }
      ]
    },
    {
      "cell_type": "code",
      "source": [
        "df.isnull().sum()"
      ],
      "metadata": {
        "colab": {
          "base_uri": "https://localhost:8080/"
        },
        "id": "FHBvb54cEwO3",
        "outputId": "6afa68ae-31bf-42b0-97fb-f741a6e252c6"
      },
      "execution_count": 40,
      "outputs": [
        {
          "output_type": "execute_result",
          "data": {
            "text/plain": [
              "Country                0\n",
              "Diplomatic_passport    0\n",
              "Service_passport       0\n",
              "Civil_passport         0\n",
              "dtype: int64"
            ]
          },
          "metadata": {},
          "execution_count": 40
        }
      ]
    },
    {
      "cell_type": "code",
      "source": [
        "# Get unique count for each variable\n",
        "df.nunique()"
      ],
      "metadata": {
        "colab": {
          "base_uri": "https://localhost:8080/"
        },
        "id": "2Pz4TVWvE3ha",
        "outputId": "bbe25700-2d30-462d-d765-0a9712c2691c"
      },
      "execution_count": 41,
      "outputs": [
        {
          "output_type": "execute_result",
          "data": {
            "text/plain": [
              "Country                196\n",
              "Diplomatic_passport     14\n",
              "Service_passport        14\n",
              "Civil_passport          17\n",
              "dtype: int64"
            ]
          },
          "metadata": {},
          "execution_count": 41
        }
      ]
    },
    {
      "cell_type": "code",
      "source": [
        "#information about the data\n",
        "df.info()"
      ],
      "metadata": {
        "colab": {
          "base_uri": "https://localhost:8080/"
        },
        "id": "1AzHMujcE7Tv",
        "outputId": "6ec0fe36-4de7-47ba-b8e0-892b93c88565"
      },
      "execution_count": 42,
      "outputs": [
        {
          "output_type": "stream",
          "name": "stdout",
          "text": [
            "<class 'pandas.core.frame.DataFrame'>\n",
            "RangeIndex: 196 entries, 0 to 195\n",
            "Data columns (total 4 columns):\n",
            " #   Column               Non-Null Count  Dtype \n",
            "---  ------               --------------  ----- \n",
            " 0   Country              196 non-null    object\n",
            " 1   Diplomatic_passport  196 non-null    object\n",
            " 2   Service_passport     196 non-null    object\n",
            " 3   Civil_passport       196 non-null    object\n",
            "dtypes: object(4)\n",
            "memory usage: 6.2+ KB\n"
          ]
        }
      ]
    },
    {
      "cell_type": "code",
      "source": [
        "# Deleting Country feature as its irrelevant for analysis\n",
        "df = df.drop(\"Country\", axis=1)"
      ],
      "metadata": {
        "id": "Zr6gdAPkKTLd"
      },
      "execution_count": 43,
      "outputs": []
    },
    {
      "cell_type": "code",
      "source": [
        "df"
      ],
      "metadata": {
        "colab": {
          "base_uri": "https://localhost:8080/",
          "height": 424
        },
        "id": "h3HMmcGnKZyg",
        "outputId": "42b10bbf-9dec-4eb5-ed7a-e7e738ec666b"
      },
      "execution_count": 44,
      "outputs": [
        {
          "output_type": "execute_result",
          "data": {
            "text/plain": [
              "                           Diplomatic_passport           Service_passport  \\\n",
              "0                    Visa-free (up to 90 days)  Visa-free (up to 90 days)   \n",
              "1                                         Visa                       Visa   \n",
              "2    Visa-free (up to 90 days within 180 days)                       Visa   \n",
              "3                                    visa-free                  visa-free   \n",
              "4                    Visa-free (up to 90 days)  Visa-free (up to 90 days)   \n",
              "..                                         ...                        ...   \n",
              "191                  Visa-free (up to 90 days)  Visa-free (up to 90 days)   \n",
              "192                                  visa-free                  visa-free   \n",
              "193                                       Visa                       Visa   \n",
              "194                  Visa-free (up to 90 days)  Visa-free (up to 90 days)   \n",
              "195                                       Visa                       Visa   \n",
              "\n",
              "                Civil_passport  \n",
              "0    Visa-free (up to 90 days)  \n",
              "1                         Visa  \n",
              "2                         Visa  \n",
              "3                    visa-free  \n",
              "4                         Visa  \n",
              "..                         ...  \n",
              "191  Visa-free (up to 90 days)  \n",
              "192                  visa-free  \n",
              "193                       Visa  \n",
              "194  Visa-free (up to 30 days)  \n",
              "195                       Visa  \n",
              "\n",
              "[196 rows x 3 columns]"
            ],
            "text/html": [
              "\n",
              "  <div id=\"df-997b6945-6efc-40a8-95b8-0a0fe5297248\">\n",
              "    <div class=\"colab-df-container\">\n",
              "      <div>\n",
              "<style scoped>\n",
              "    .dataframe tbody tr th:only-of-type {\n",
              "        vertical-align: middle;\n",
              "    }\n",
              "\n",
              "    .dataframe tbody tr th {\n",
              "        vertical-align: top;\n",
              "    }\n",
              "\n",
              "    .dataframe thead th {\n",
              "        text-align: right;\n",
              "    }\n",
              "</style>\n",
              "<table border=\"1\" class=\"dataframe\">\n",
              "  <thead>\n",
              "    <tr style=\"text-align: right;\">\n",
              "      <th></th>\n",
              "      <th>Diplomatic_passport</th>\n",
              "      <th>Service_passport</th>\n",
              "      <th>Civil_passport</th>\n",
              "    </tr>\n",
              "  </thead>\n",
              "  <tbody>\n",
              "    <tr>\n",
              "      <th>0</th>\n",
              "      <td>Visa-free (up to 90 days)</td>\n",
              "      <td>Visa-free (up to 90 days)</td>\n",
              "      <td>Visa-free (up to 90 days)</td>\n",
              "    </tr>\n",
              "    <tr>\n",
              "      <th>1</th>\n",
              "      <td>Visa</td>\n",
              "      <td>Visa</td>\n",
              "      <td>Visa</td>\n",
              "    </tr>\n",
              "    <tr>\n",
              "      <th>2</th>\n",
              "      <td>Visa-free (up to 90 days within 180 days)</td>\n",
              "      <td>Visa</td>\n",
              "      <td>Visa</td>\n",
              "    </tr>\n",
              "    <tr>\n",
              "      <th>3</th>\n",
              "      <td>visa-free</td>\n",
              "      <td>visa-free</td>\n",
              "      <td>visa-free</td>\n",
              "    </tr>\n",
              "    <tr>\n",
              "      <th>4</th>\n",
              "      <td>Visa-free (up to 90 days)</td>\n",
              "      <td>Visa-free (up to 90 days)</td>\n",
              "      <td>Visa</td>\n",
              "    </tr>\n",
              "    <tr>\n",
              "      <th>...</th>\n",
              "      <td>...</td>\n",
              "      <td>...</td>\n",
              "      <td>...</td>\n",
              "    </tr>\n",
              "    <tr>\n",
              "      <th>191</th>\n",
              "      <td>Visa-free (up to 90 days)</td>\n",
              "      <td>Visa-free (up to 90 days)</td>\n",
              "      <td>Visa-free (up to 90 days)</td>\n",
              "    </tr>\n",
              "    <tr>\n",
              "      <th>192</th>\n",
              "      <td>visa-free</td>\n",
              "      <td>visa-free</td>\n",
              "      <td>visa-free</td>\n",
              "    </tr>\n",
              "    <tr>\n",
              "      <th>193</th>\n",
              "      <td>Visa</td>\n",
              "      <td>Visa</td>\n",
              "      <td>Visa</td>\n",
              "    </tr>\n",
              "    <tr>\n",
              "      <th>194</th>\n",
              "      <td>Visa-free (up to 90 days)</td>\n",
              "      <td>Visa-free (up to 90 days)</td>\n",
              "      <td>Visa-free (up to 30 days)</td>\n",
              "    </tr>\n",
              "    <tr>\n",
              "      <th>195</th>\n",
              "      <td>Visa</td>\n",
              "      <td>Visa</td>\n",
              "      <td>Visa</td>\n",
              "    </tr>\n",
              "  </tbody>\n",
              "</table>\n",
              "<p>196 rows × 3 columns</p>\n",
              "</div>\n",
              "      <button class=\"colab-df-convert\" onclick=\"convertToInteractive('df-997b6945-6efc-40a8-95b8-0a0fe5297248')\"\n",
              "              title=\"Convert this dataframe to an interactive table.\"\n",
              "              style=\"display:none;\">\n",
              "        \n",
              "  <svg xmlns=\"http://www.w3.org/2000/svg\" height=\"24px\"viewBox=\"0 0 24 24\"\n",
              "       width=\"24px\">\n",
              "    <path d=\"M0 0h24v24H0V0z\" fill=\"none\"/>\n",
              "    <path d=\"M18.56 5.44l.94 2.06.94-2.06 2.06-.94-2.06-.94-.94-2.06-.94 2.06-2.06.94zm-11 1L8.5 8.5l.94-2.06 2.06-.94-2.06-.94L8.5 2.5l-.94 2.06-2.06.94zm10 10l.94 2.06.94-2.06 2.06-.94-2.06-.94-.94-2.06-.94 2.06-2.06.94z\"/><path d=\"M17.41 7.96l-1.37-1.37c-.4-.4-.92-.59-1.43-.59-.52 0-1.04.2-1.43.59L10.3 9.45l-7.72 7.72c-.78.78-.78 2.05 0 2.83L4 21.41c.39.39.9.59 1.41.59.51 0 1.02-.2 1.41-.59l7.78-7.78 2.81-2.81c.8-.78.8-2.07 0-2.86zM5.41 20L4 18.59l7.72-7.72 1.47 1.35L5.41 20z\"/>\n",
              "  </svg>\n",
              "      </button>\n",
              "      \n",
              "  <style>\n",
              "    .colab-df-container {\n",
              "      display:flex;\n",
              "      flex-wrap:wrap;\n",
              "      gap: 12px;\n",
              "    }\n",
              "\n",
              "    .colab-df-convert {\n",
              "      background-color: #E8F0FE;\n",
              "      border: none;\n",
              "      border-radius: 50%;\n",
              "      cursor: pointer;\n",
              "      display: none;\n",
              "      fill: #1967D2;\n",
              "      height: 32px;\n",
              "      padding: 0 0 0 0;\n",
              "      width: 32px;\n",
              "    }\n",
              "\n",
              "    .colab-df-convert:hover {\n",
              "      background-color: #E2EBFA;\n",
              "      box-shadow: 0px 1px 2px rgba(60, 64, 67, 0.3), 0px 1px 3px 1px rgba(60, 64, 67, 0.15);\n",
              "      fill: #174EA6;\n",
              "    }\n",
              "\n",
              "    [theme=dark] .colab-df-convert {\n",
              "      background-color: #3B4455;\n",
              "      fill: #D2E3FC;\n",
              "    }\n",
              "\n",
              "    [theme=dark] .colab-df-convert:hover {\n",
              "      background-color: #434B5C;\n",
              "      box-shadow: 0px 1px 3px 1px rgba(0, 0, 0, 0.15);\n",
              "      filter: drop-shadow(0px 1px 2px rgba(0, 0, 0, 0.3));\n",
              "      fill: #FFFFFF;\n",
              "    }\n",
              "  </style>\n",
              "\n",
              "      <script>\n",
              "        const buttonEl =\n",
              "          document.querySelector('#df-997b6945-6efc-40a8-95b8-0a0fe5297248 button.colab-df-convert');\n",
              "        buttonEl.style.display =\n",
              "          google.colab.kernel.accessAllowed ? 'block' : 'none';\n",
              "\n",
              "        async function convertToInteractive(key) {\n",
              "          const element = document.querySelector('#df-997b6945-6efc-40a8-95b8-0a0fe5297248');\n",
              "          const dataTable =\n",
              "            await google.colab.kernel.invokeFunction('convertToInteractive',\n",
              "                                                     [key], {});\n",
              "          if (!dataTable) return;\n",
              "\n",
              "          const docLinkHtml = 'Like what you see? Visit the ' +\n",
              "            '<a target=\"_blank\" href=https://colab.research.google.com/notebooks/data_table.ipynb>data table notebook</a>'\n",
              "            + ' to learn more about interactive tables.';\n",
              "          element.innerHTML = '';\n",
              "          dataTable['output_type'] = 'display_data';\n",
              "          await google.colab.output.renderOutput(dataTable, element);\n",
              "          const docLink = document.createElement('div');\n",
              "          docLink.innerHTML = docLinkHtml;\n",
              "          element.appendChild(docLink);\n",
              "        }\n",
              "      </script>\n",
              "    </div>\n",
              "  </div>\n",
              "  "
            ]
          },
          "metadata": {},
          "execution_count": 44
        }
      ]
    },
    {
      "cell_type": "code",
      "source": [
        "df.Diplomatic_passport.value_counts()"
      ],
      "metadata": {
        "colab": {
          "base_uri": "https://localhost:8080/"
        },
        "id": "Uojqk5aoNdD4",
        "outputId": "5db2893c-dc93-44e5-8d3a-25b16332bba3"
      },
      "execution_count": 45,
      "outputs": [
        {
          "output_type": "execute_result",
          "data": {
            "text/plain": [
              "Visa                                                                    60\n",
              "Visa-free (up to 90 days)                                               47\n",
              "Visa-free (up to 90 days within 180 days)                               45\n",
              "visa-free                                                               15\n",
              "Visa-free (up to 30 days)                                               15\n",
              "Visa-free (up to 14 days)                                                4\n",
              "Visa-free (up to 3 months with the right to multiple entry and exit)     2\n",
              "Visa-free (up to 90 days with the right to multiple entry and exit)      2\n",
              "Visa-free (within 1 year)                                                1\n",
              "Visa-free up to 60 days (no more than 90 days within 180 days)           1\n",
              "Visa-free (up to 1 month)                                                1\n",
              "Visa-free up to 30 days (no more than 90 days within 180 days)           1\n",
              "Visa-free (up to 60 days)                                                1\n",
              "Visa-free (up to 90 days within 6 months)                                1\n",
              "Name: Diplomatic_passport, dtype: int64"
            ]
          },
          "metadata": {},
          "execution_count": 45
        }
      ]
    },
    {
      "cell_type": "code",
      "source": [
        "df.Service_passport.value_counts()"
      ],
      "metadata": {
        "colab": {
          "base_uri": "https://localhost:8080/"
        },
        "id": "MrXcaziUNe9_",
        "outputId": "f5ba2983-7d7e-49f0-fa01-efc379d7fb07"
      },
      "execution_count": 46,
      "outputs": [
        {
          "output_type": "execute_result",
          "data": {
            "text/plain": [
              "Visa                                                                    88\n",
              "Visa-free (up to 90 days)                                               42\n",
              "Visa-free (up to 90 days within 180 days)                               22\n",
              "visa-free                                                               15\n",
              "Visa-free (up to 30 days)                                               15\n",
              "Visa-free (up to 14 days)                                                4\n",
              "Visa-free (up to 3 months with the right to multiple entry and exit)     2\n",
              "Visa-free (up to 90 days with the right to multiple entry and exit)      2\n",
              "Visa-free (within 1 year)                                                1\n",
              "Visa-free up to 60 days (no more than 90 days within 180 days)           1\n",
              "Visa-free up to 1 month)                                                 1\n",
              "Visa-free up to 30 days (no more than 90 days within 180 days)           1\n",
              "Visa-free (up to 60 days)                                                1\n",
              "Visa-free (up to 90 days within 6 months)                                1\n",
              "Name: Service_passport, dtype: int64"
            ]
          },
          "metadata": {},
          "execution_count": 46
        }
      ]
    },
    {
      "cell_type": "code",
      "source": [
        "df.Civil_passport.value_counts()"
      ],
      "metadata": {
        "colab": {
          "base_uri": "https://localhost:8080/"
        },
        "id": "fVS68JzkNimx",
        "outputId": "77ee9c25-d639-4279-aa80-6cc58032cc8e"
      },
      "execution_count": 47,
      "outputs": [
        {
          "output_type": "execute_result",
          "data": {
            "text/plain": [
              "Visa                                                              123\n",
              "Visa-free (up to 30 days)                                          18\n",
              "Visa-free (up to 90 days within 180 days)                          15\n",
              "Visa-free (up to 90 days)                                          13\n",
              "visa-free                                                          11\n",
              "Visa-free (up to 14 days)                                           3\n",
              "Visa-free (up to 180 days)                                          2\n",
              "Visa-free (up to 60 days)                                           2\n",
              "Visa-free (no more than 90 days within 180 days)                    1\n",
              "Visa-free (up to 30 days within 60 days)                            1\n",
              "Visa-free (up to 15 days)                                           1\n",
              "Visa-free (within 1 year)                                           1\n",
              "Visa-free (up to 21 days)                                           1\n",
              "Visa-free up to 60 days (no more than 90 days within 180 days)      1\n",
              "Visa-free (up to 1 month)                                           1\n",
              "Visa-free up to 30 days (no more than 90 days within 180 days)      1\n",
              "Visa-free (up to 60 days within 180 days)                           1\n",
              "Name: Civil_passport, dtype: int64"
            ]
          },
          "metadata": {},
          "execution_count": 47
        }
      ]
    },
    {
      "cell_type": "code",
      "source": [
        "# Mapping Diplomatic_passport to Integer\n",
        "Diplomatic_passport = {'Visa': 0,                                                                    \n",
        "'Visa-free (up to 90 days)' :1,                                               \n",
        "'Visa-free (up to 90 days within 180 days)':2,                              \n",
        "'visa-free':3,                                                              \n",
        "'Visa-free (up to 30 days)':4,                                             \n",
        "'Visa-free (up to 14 days)':5,                                              \n",
        "'Visa-free (up to 3 months with the right to multiple entry and exit)':6,     \n",
        "'Visa-free (up to 90 days with the right to multiple entry and exit)':7,  \n",
        "'Visa-free (within 1 year)':8,                                                \n",
        "'Visa-free up to 60 days (no more than 90 days within 180 days)':9,          \n",
        "'Visa-free (up to 1 month)':10,                                               \n",
        "'Visa-free up to 30 days (no more than 90 days within 180 days)':11,           \n",
        "'Visa-free (up to 60 days)':12,                                             \n",
        "'Visa-free (up to 90 days within 6 months)' :13} \n",
        "df.Diplomatic_passport = [Diplomatic_passport[item] for item in df.Diplomatic_passport]"
      ],
      "metadata": {
        "id": "rP3Rgyn2FAKd"
      },
      "execution_count": 48,
      "outputs": []
    },
    {
      "cell_type": "code",
      "source": [
        "# Mapping Service_passport to Integer\n",
        "Service_passport = {'Visa' : 0,\n",
        "'Visa-free (up to 90 days)' :1,                                             \n",
        "'Visa-free (up to 90 days within 180 days)' :2,                              \n",
        "'visa-free' :3,                                                             \n",
        "'Visa-free (up to 30 days)' :4,                                               \n",
        "'Visa-free (up to 14 days)'  :5,                                              \n",
        "'Visa-free (up to 3 months with the right to multiple entry and exit)' :6,     \n",
        "'Visa-free (up to 90 days with the right to multiple entry and exit)'  :7,    \n",
        "'Visa-free (within 1 year)'  :8,                                              \n",
        "'Visa-free up to 60 days (no more than 90 days within 180 days)' :9,          \n",
        "'Visa-free up to 1 month)'    :10,                                             \n",
        "'Visa-free up to 30 days (no more than 90 days within 180 days)'   :11,        \n",
        "'Visa-free (up to 60 days)'   :12,                                     \n",
        "'Visa-free (up to 90 days within 6 months)' :13} \n",
        "df.Service_passport = [Service_passport[item] for item in df.Service_passport]"
      ],
      "metadata": {
        "id": "VmLHsiLQPfsA"
      },
      "execution_count": 49,
      "outputs": []
    },
    {
      "cell_type": "code",
      "source": [
        "# Mapping Civil_passport to Integer\n",
        "Civil_passport = {'Visa'                                             :0,\n",
        "'Visa-free (up to 30 days)'                                          :1,\n",
        "'Visa-free (up to 90 days within 180 days)'                          :2,\n",
        "'Visa-free (up to 90 days)'                                         :3,\n",
        "'visa-free'                                                          :4,\n",
        "'Visa-free (up to 14 days)'                                           :5,\n",
        "'Visa-free (up to 180 days)'                                          :6,\n",
        "'Visa-free (up to 60 days)'                                         :7,\n",
        "'Visa-free (no more than 90 days within 180 days)'                   :8,\n",
        "'Visa-free (up to 30 days within 60 days)'                           :9,\n",
        "'Visa-free (up to 15 days)'                                          :10,\n",
        "'Visa-free (within 1 year)'                                          :11,\n",
        "'Visa-free (up to 21 days)'                                          :12,\n",
        "'Visa-free up to 60 days (no more than 90 days within 180 days)'    :13,\n",
        "'Visa-free (up to 1 month)'                                          :14,\n",
        "'Visa-free up to 30 days (no more than 90 days within 180 days)'      :15,\n",
        "'Visa-free (up to 60 days within 180 days)' :16} \n",
        "df.Civil_passport = [Civil_passport[item] for item in df.Civil_passport]"
      ],
      "metadata": {
        "id": "5UmMAmb4Q87F"
      },
      "execution_count": 50,
      "outputs": []
    },
    {
      "cell_type": "code",
      "source": [
        "df"
      ],
      "metadata": {
        "colab": {
          "base_uri": "https://localhost:8080/",
          "height": 424
        },
        "id": "KOPDhilLX8p0",
        "outputId": "ab43330a-e408-46b2-eaa0-8674908e4d0a"
      },
      "execution_count": 53,
      "outputs": [
        {
          "output_type": "execute_result",
          "data": {
            "text/plain": [
              "     Diplomatic_passport  Service_passport  Civil_passport\n",
              "0                      1                 1               3\n",
              "1                      0                 0               0\n",
              "2                      2                 0               0\n",
              "3                      3                 3               4\n",
              "4                      1                 1               0\n",
              "..                   ...               ...             ...\n",
              "191                    1                 1               3\n",
              "192                    3                 3               4\n",
              "193                    0                 0               0\n",
              "194                    1                 1               1\n",
              "195                    0                 0               0\n",
              "\n",
              "[196 rows x 3 columns]"
            ],
            "text/html": [
              "\n",
              "  <div id=\"df-7599b9ed-bd0f-4ea2-8ecc-3d54d9593652\">\n",
              "    <div class=\"colab-df-container\">\n",
              "      <div>\n",
              "<style scoped>\n",
              "    .dataframe tbody tr th:only-of-type {\n",
              "        vertical-align: middle;\n",
              "    }\n",
              "\n",
              "    .dataframe tbody tr th {\n",
              "        vertical-align: top;\n",
              "    }\n",
              "\n",
              "    .dataframe thead th {\n",
              "        text-align: right;\n",
              "    }\n",
              "</style>\n",
              "<table border=\"1\" class=\"dataframe\">\n",
              "  <thead>\n",
              "    <tr style=\"text-align: right;\">\n",
              "      <th></th>\n",
              "      <th>Diplomatic_passport</th>\n",
              "      <th>Service_passport</th>\n",
              "      <th>Civil_passport</th>\n",
              "    </tr>\n",
              "  </thead>\n",
              "  <tbody>\n",
              "    <tr>\n",
              "      <th>0</th>\n",
              "      <td>1</td>\n",
              "      <td>1</td>\n",
              "      <td>3</td>\n",
              "    </tr>\n",
              "    <tr>\n",
              "      <th>1</th>\n",
              "      <td>0</td>\n",
              "      <td>0</td>\n",
              "      <td>0</td>\n",
              "    </tr>\n",
              "    <tr>\n",
              "      <th>2</th>\n",
              "      <td>2</td>\n",
              "      <td>0</td>\n",
              "      <td>0</td>\n",
              "    </tr>\n",
              "    <tr>\n",
              "      <th>3</th>\n",
              "      <td>3</td>\n",
              "      <td>3</td>\n",
              "      <td>4</td>\n",
              "    </tr>\n",
              "    <tr>\n",
              "      <th>4</th>\n",
              "      <td>1</td>\n",
              "      <td>1</td>\n",
              "      <td>0</td>\n",
              "    </tr>\n",
              "    <tr>\n",
              "      <th>...</th>\n",
              "      <td>...</td>\n",
              "      <td>...</td>\n",
              "      <td>...</td>\n",
              "    </tr>\n",
              "    <tr>\n",
              "      <th>191</th>\n",
              "      <td>1</td>\n",
              "      <td>1</td>\n",
              "      <td>3</td>\n",
              "    </tr>\n",
              "    <tr>\n",
              "      <th>192</th>\n",
              "      <td>3</td>\n",
              "      <td>3</td>\n",
              "      <td>4</td>\n",
              "    </tr>\n",
              "    <tr>\n",
              "      <th>193</th>\n",
              "      <td>0</td>\n",
              "      <td>0</td>\n",
              "      <td>0</td>\n",
              "    </tr>\n",
              "    <tr>\n",
              "      <th>194</th>\n",
              "      <td>1</td>\n",
              "      <td>1</td>\n",
              "      <td>1</td>\n",
              "    </tr>\n",
              "    <tr>\n",
              "      <th>195</th>\n",
              "      <td>0</td>\n",
              "      <td>0</td>\n",
              "      <td>0</td>\n",
              "    </tr>\n",
              "  </tbody>\n",
              "</table>\n",
              "<p>196 rows × 3 columns</p>\n",
              "</div>\n",
              "      <button class=\"colab-df-convert\" onclick=\"convertToInteractive('df-7599b9ed-bd0f-4ea2-8ecc-3d54d9593652')\"\n",
              "              title=\"Convert this dataframe to an interactive table.\"\n",
              "              style=\"display:none;\">\n",
              "        \n",
              "  <svg xmlns=\"http://www.w3.org/2000/svg\" height=\"24px\"viewBox=\"0 0 24 24\"\n",
              "       width=\"24px\">\n",
              "    <path d=\"M0 0h24v24H0V0z\" fill=\"none\"/>\n",
              "    <path d=\"M18.56 5.44l.94 2.06.94-2.06 2.06-.94-2.06-.94-.94-2.06-.94 2.06-2.06.94zm-11 1L8.5 8.5l.94-2.06 2.06-.94-2.06-.94L8.5 2.5l-.94 2.06-2.06.94zm10 10l.94 2.06.94-2.06 2.06-.94-2.06-.94-.94-2.06-.94 2.06-2.06.94z\"/><path d=\"M17.41 7.96l-1.37-1.37c-.4-.4-.92-.59-1.43-.59-.52 0-1.04.2-1.43.59L10.3 9.45l-7.72 7.72c-.78.78-.78 2.05 0 2.83L4 21.41c.39.39.9.59 1.41.59.51 0 1.02-.2 1.41-.59l7.78-7.78 2.81-2.81c.8-.78.8-2.07 0-2.86zM5.41 20L4 18.59l7.72-7.72 1.47 1.35L5.41 20z\"/>\n",
              "  </svg>\n",
              "      </button>\n",
              "      \n",
              "  <style>\n",
              "    .colab-df-container {\n",
              "      display:flex;\n",
              "      flex-wrap:wrap;\n",
              "      gap: 12px;\n",
              "    }\n",
              "\n",
              "    .colab-df-convert {\n",
              "      background-color: #E8F0FE;\n",
              "      border: none;\n",
              "      border-radius: 50%;\n",
              "      cursor: pointer;\n",
              "      display: none;\n",
              "      fill: #1967D2;\n",
              "      height: 32px;\n",
              "      padding: 0 0 0 0;\n",
              "      width: 32px;\n",
              "    }\n",
              "\n",
              "    .colab-df-convert:hover {\n",
              "      background-color: #E2EBFA;\n",
              "      box-shadow: 0px 1px 2px rgba(60, 64, 67, 0.3), 0px 1px 3px 1px rgba(60, 64, 67, 0.15);\n",
              "      fill: #174EA6;\n",
              "    }\n",
              "\n",
              "    [theme=dark] .colab-df-convert {\n",
              "      background-color: #3B4455;\n",
              "      fill: #D2E3FC;\n",
              "    }\n",
              "\n",
              "    [theme=dark] .colab-df-convert:hover {\n",
              "      background-color: #434B5C;\n",
              "      box-shadow: 0px 1px 3px 1px rgba(0, 0, 0, 0.15);\n",
              "      filter: drop-shadow(0px 1px 2px rgba(0, 0, 0, 0.3));\n",
              "      fill: #FFFFFF;\n",
              "    }\n",
              "  </style>\n",
              "\n",
              "      <script>\n",
              "        const buttonEl =\n",
              "          document.querySelector('#df-7599b9ed-bd0f-4ea2-8ecc-3d54d9593652 button.colab-df-convert');\n",
              "        buttonEl.style.display =\n",
              "          google.colab.kernel.accessAllowed ? 'block' : 'none';\n",
              "\n",
              "        async function convertToInteractive(key) {\n",
              "          const element = document.querySelector('#df-7599b9ed-bd0f-4ea2-8ecc-3d54d9593652');\n",
              "          const dataTable =\n",
              "            await google.colab.kernel.invokeFunction('convertToInteractive',\n",
              "                                                     [key], {});\n",
              "          if (!dataTable) return;\n",
              "\n",
              "          const docLinkHtml = 'Like what you see? Visit the ' +\n",
              "            '<a target=\"_blank\" href=https://colab.research.google.com/notebooks/data_table.ipynb>data table notebook</a>'\n",
              "            + ' to learn more about interactive tables.';\n",
              "          element.innerHTML = '';\n",
              "          dataTable['output_type'] = 'display_data';\n",
              "          await google.colab.output.renderOutput(dataTable, element);\n",
              "          const docLink = document.createElement('div');\n",
              "          docLink.innerHTML = docLinkHtml;\n",
              "          element.appendChild(docLink);\n",
              "        }\n",
              "      </script>\n",
              "    </div>\n",
              "  </div>\n",
              "  "
            ]
          },
          "metadata": {},
          "execution_count": 53
        }
      ]
    },
    {
      "cell_type": "code",
      "source": [
        "x=df.iloc[:,0:2].values\n",
        "y=df.iloc[:,2].values"
      ],
      "metadata": {
        "id": "a5ShhwAJXxjf"
      },
      "execution_count": 54,
      "outputs": []
    },
    {
      "cell_type": "code",
      "source": [
        "from sklearn.model_selection import train_test_split"
      ],
      "metadata": {
        "id": "78ZjsKTOYB7L"
      },
      "execution_count": 59,
      "outputs": []
    },
    {
      "cell_type": "code",
      "source": [
        "# Splitting Features from \n",
        "x_train, x_test, y_train, y_test = train_test_split(x,y, test_size = 0.2, random_state=0)"
      ],
      "metadata": {
        "id": "s7XjBDWrYnzn"
      },
      "execution_count": 60,
      "outputs": []
    },
    {
      "cell_type": "code",
      "source": [
        "x"
      ],
      "metadata": {
        "colab": {
          "base_uri": "https://localhost:8080/"
        },
        "id": "oUtpjRZUZWD4",
        "outputId": "c689a591-4769-4ea5-aaac-a50f7d616f74"
      },
      "execution_count": 61,
      "outputs": [
        {
          "output_type": "execute_result",
          "data": {
            "text/plain": [
              "array([[ 1,  1],\n",
              "       [ 0,  0],\n",
              "       [ 2,  0],\n",
              "       [ 3,  3],\n",
              "       [ 1,  1],\n",
              "       [ 0,  0],\n",
              "       [ 1,  1],\n",
              "       [ 0,  0],\n",
              "       [ 4,  4],\n",
              "       [ 1,  1],\n",
              "       [ 3,  3],\n",
              "       [ 0,  0],\n",
              "       [ 1,  1],\n",
              "       [ 4,  4],\n",
              "       [ 3,  3],\n",
              "       [ 2,  2],\n",
              "       [ 0,  0],\n",
              "       [ 3,  3],\n",
              "       [ 2,  0],\n",
              "       [ 1,  1],\n",
              "       [ 2,  2],\n",
              "       [ 6,  6],\n",
              "       [ 1,  1],\n",
              "       [ 1,  1],\n",
              "       [ 1,  1],\n",
              "       [ 5,  5],\n",
              "       [ 1,  1],\n",
              "       [ 0,  0],\n",
              "       [ 0,  0],\n",
              "       [ 1,  1],\n",
              "       [ 1,  0],\n",
              "       [ 0,  0],\n",
              "       [ 2,  2],\n",
              "       [ 2,  2],\n",
              "       [ 0,  0],\n",
              "       [ 1,  1],\n",
              "       [ 1,  1],\n",
              "       [ 3,  3],\n",
              "       [ 2,  2],\n",
              "       [ 0,  0],\n",
              "       [ 0,  0],\n",
              "       [ 2,  2],\n",
              "       [ 1,  1],\n",
              "       [ 0,  0],\n",
              "       [ 2,  0],\n",
              "       [ 2,  2],\n",
              "       [ 2,  2],\n",
              "       [ 2,  0],\n",
              "       [ 8,  8],\n",
              "       [ 2,  0],\n",
              "       [ 0,  0],\n",
              "       [ 0,  0],\n",
              "       [ 0,  0],\n",
              "       [ 1,  1],\n",
              "       [ 1,  1],\n",
              "       [ 0,  0],\n",
              "       [ 3,  3],\n",
              "       [ 0,  0],\n",
              "       [ 1,  1],\n",
              "       [ 5,  5],\n",
              "       [ 2,  2],\n",
              "       [ 0,  0],\n",
              "       [ 4,  4],\n",
              "       [ 0,  0],\n",
              "       [ 2,  0],\n",
              "       [ 2,  0],\n",
              "       [ 2,  0],\n",
              "       [ 0,  0],\n",
              "       [ 3,  3],\n",
              "       [ 3,  3],\n",
              "       [ 3,  3],\n",
              "       [ 0,  0],\n",
              "       [ 0,  0],\n",
              "       [ 1,  0],\n",
              "       [ 0,  0],\n",
              "       [ 2,  2],\n",
              "       [ 3,  3],\n",
              "       [ 0,  0],\n",
              "       [ 4,  4],\n",
              "       [ 5,  5],\n",
              "       [ 4,  4],\n",
              "       [ 2,  2],\n",
              "       [ 0,  0],\n",
              "       [ 1,  1],\n",
              "       [ 1,  1],\n",
              "       [ 1,  1],\n",
              "       [ 6,  6],\n",
              "       [ 0,  0],\n",
              "       [ 4,  4],\n",
              "       [ 2,  2],\n",
              "       [ 4,  4],\n",
              "       [ 2,  0],\n",
              "       [ 0,  0],\n",
              "       [ 0,  0],\n",
              "       [ 0,  0],\n",
              "       [ 0,  0],\n",
              "       [ 2,  0],\n",
              "       [ 2,  0],\n",
              "       [ 1,  0],\n",
              "       [ 9,  9],\n",
              "       [ 0,  0],\n",
              "       [ 0,  0],\n",
              "       [ 1,  1],\n",
              "       [ 0,  0],\n",
              "       [ 4,  4],\n",
              "       [ 1,  1],\n",
              "       [10, 10],\n",
              "       [ 2,  0],\n",
              "       [ 1,  1],\n",
              "       [ 1,  1],\n",
              "       [ 4,  4],\n",
              "       [ 4,  4],\n",
              "       [ 3,  3],\n",
              "       [ 0,  0],\n",
              "       [11, 11],\n",
              "       [ 7,  7],\n",
              "       [ 1,  1],\n",
              "       [ 5,  5],\n",
              "       [ 7,  7],\n",
              "       [ 0,  0],\n",
              "       [ 0,  0],\n",
              "       [ 2,  0],\n",
              "       [ 1,  1],\n",
              "       [ 0,  0],\n",
              "       [ 2,  0],\n",
              "       [ 1,  0],\n",
              "       [ 1,  1],\n",
              "       [ 1,  1],\n",
              "       [ 0,  0],\n",
              "       [ 0,  0],\n",
              "       [ 2,  2],\n",
              "       [ 0,  0],\n",
              "       [ 2,  2],\n",
              "       [ 2,  2],\n",
              "       [ 2,  0],\n",
              "       [ 2,  0],\n",
              "       [ 0,  0],\n",
              "       [ 2,  2],\n",
              "       [ 1,  1],\n",
              "       [12, 12],\n",
              "       [ 0,  0],\n",
              "       [ 0,  0],\n",
              "       [ 0,  0],\n",
              "       [ 4,  4],\n",
              "       [ 4,  4],\n",
              "       [ 1,  1],\n",
              "       [ 4,  4],\n",
              "       [ 2,  2],\n",
              "       [ 3,  3],\n",
              "       [ 1,  1],\n",
              "       [ 1,  1],\n",
              "       [ 1,  1],\n",
              "       [ 2,  2],\n",
              "       [ 2,  0],\n",
              "       [ 0,  0],\n",
              "       [ 0,  0],\n",
              "       [ 0,  0],\n",
              "       [ 0,  0],\n",
              "       [ 0,  0],\n",
              "       [ 3,  3],\n",
              "       [ 1,  1],\n",
              "       [ 0,  0],\n",
              "       [ 0,  0],\n",
              "       [ 0,  0],\n",
              "       [ 1,  1],\n",
              "       [ 0,  0],\n",
              "       [ 1,  1],\n",
              "       [ 4,  4],\n",
              "       [ 1,  0],\n",
              "       [ 0,  0],\n",
              "       [ 3,  3],\n",
              "       [ 2,  2],\n",
              "       [ 2,  2],\n",
              "       [ 1,  1],\n",
              "       [ 1,  1],\n",
              "       [ 2,  0],\n",
              "       [ 2,  0],\n",
              "       [13, 13],\n",
              "       [ 0,  0],\n",
              "       [ 0,  0],\n",
              "       [ 1,  1],\n",
              "       [ 2,  0],\n",
              "       [ 2,  2],\n",
              "       [ 2,  0],\n",
              "       [ 2,  0],\n",
              "       [ 4,  4],\n",
              "       [ 2,  2],\n",
              "       [ 0,  0],\n",
              "       [ 0,  0],\n",
              "       [ 2,  0],\n",
              "       [ 1,  1],\n",
              "       [ 1,  1],\n",
              "       [ 3,  3],\n",
              "       [ 0,  0],\n",
              "       [ 1,  1],\n",
              "       [ 0,  0]])"
            ]
          },
          "metadata": {},
          "execution_count": 61
        }
      ]
    },
    {
      "cell_type": "code",
      "source": [
        "y"
      ],
      "metadata": {
        "colab": {
          "base_uri": "https://localhost:8080/"
        },
        "id": "S4c8EQx1ZaEp",
        "outputId": "c478ecb2-f564-46d7-c158-6ed6a38f0079"
      },
      "execution_count": 62,
      "outputs": [
        {
          "output_type": "execute_result",
          "data": {
            "text/plain": [
              "array([ 3,  0,  0,  4,  0,  0,  0,  0,  1,  6,  4,  0,  3,  0,  4,  0,  0,\n",
              "        4,  0,  0,  0,  8,  9,  1,  3,  5,  0,  0,  0,  3,  0,  0,  0,  2,\n",
              "        0, 10,  0,  0,  2,  0,  0,  2,  0,  0,  0,  2,  2,  0, 11,  0,  0,\n",
              "        0, 12,  1,  0,  0,  0,  2,  0,  1,  0,  0,  0,  0,  0,  0,  0,  0,\n",
              "        0,  4,  0,  0,  0,  0,  0,  0,  4,  0,  0,  5,  1,  2,  0,  0,  0,\n",
              "        7,  1,  0,  1,  0,  1,  0,  0,  0,  0,  0,  0,  0,  0, 13,  0,  0,\n",
              "        3,  0,  1,  0, 14,  0,  3,  6,  1,  0,  4,  0, 15,  0,  3,  5,  0,\n",
              "        0,  0,  0,  3,  0,  0,  0,  0,  0,  0,  0,  2,  0,  2,  2,  0,  0,\n",
              "        0,  0,  3,  7,  0,  0,  0,  1,  1,  0,  1,  2,  4,  1,  0,  0,  0,\n",
              "        0,  0,  0,  0,  0,  0,  4,  1,  0,  0,  0,  3,  0,  3,  0, 16,  0,\n",
              "        4,  2,  2,  3,  1,  0,  0,  0,  0,  0,  1,  0,  2,  0,  0,  0,  2,\n",
              "        0,  0,  0,  0,  3,  4,  0,  1,  0])"
            ]
          },
          "metadata": {},
          "execution_count": 62
        }
      ]
    },
    {
      "cell_type": "code",
      "source": [
        "# Import Library\n",
        "from sklearn.linear_model import LogisticRegression\n",
        "from sklearn.metrics import accuracy_score, confusion_matrix"
      ],
      "metadata": {
        "id": "XP32e8Z1Zbur"
      },
      "execution_count": 63,
      "outputs": []
    },
    {
      "cell_type": "code",
      "source": [
        "clf = LogisticRegression()\n",
        "clf.fit(x_train, y_train)\n",
        "pred = clf.predict(x_test)\n",
        "print(\"Logistic Regression : {}%\".format(accuracy_score(pred,y_test)*100))"
      ],
      "metadata": {
        "colab": {
          "base_uri": "https://localhost:8080/"
        },
        "id": "GfUP-Tg6ZgiT",
        "outputId": "fff7aec9-a7d7-43a1-af9d-c0fd8161fe43"
      },
      "execution_count": 64,
      "outputs": [
        {
          "output_type": "stream",
          "name": "stdout",
          "text": [
            "Logistic Regression : 70.0%\n"
          ]
        },
        {
          "output_type": "stream",
          "name": "stderr",
          "text": [
            "/usr/local/lib/python3.7/dist-packages/sklearn/linear_model/_logistic.py:818: ConvergenceWarning: lbfgs failed to converge (status=1):\n",
            "STOP: TOTAL NO. of ITERATIONS REACHED LIMIT.\n",
            "\n",
            "Increase the number of iterations (max_iter) or scale the data as shown in:\n",
            "    https://scikit-learn.org/stable/modules/preprocessing.html\n",
            "Please also refer to the documentation for alternative solver options:\n",
            "    https://scikit-learn.org/stable/modules/linear_model.html#logistic-regression\n",
            "  extra_warning_msg=_LOGISTIC_SOLVER_CONVERGENCE_MSG,\n"
          ]
        }
      ]
    },
    {
      "cell_type": "code",
      "source": [
        "# Import Library\n",
        "from sklearn import tree\n",
        "clf = tree.DecisionTreeClassifier()\n",
        "clf.fit(x_train, y_train)\n",
        "pred = clf.predict(x_test)\n",
        "accuracy_score(pred, y_test)\n",
        "print(\"Decision Tree : {}%\".format(accuracy_score(pred,y_test)*100))"
      ],
      "metadata": {
        "colab": {
          "base_uri": "https://localhost:8080/"
        },
        "id": "zxtKt5KhZyjL",
        "outputId": "2e3a3fc1-63d9-46fc-92dc-66e0f80bbd35"
      },
      "execution_count": 65,
      "outputs": [
        {
          "output_type": "stream",
          "name": "stdout",
          "text": [
            "Decision Tree : 75.0%\n"
          ]
        }
      ]
    },
    {
      "cell_type": "code",
      "source": [
        "# Import Library\n",
        "from sklearn.ensemble import RandomForestClassifier\n",
        "clf = RandomForestClassifier(n_estimators = 200, random_state=200)\n",
        "clf.fit(x_train, y_train)\n",
        "pred = clf.predict(x_test)\n",
        "print(\"Random Forest Model : {:.2f}%\".format(accuracy_score(pred,y_test)*100))"
      ],
      "metadata": {
        "colab": {
          "base_uri": "https://localhost:8080/"
        },
        "id": "_zFGiTjHaAER",
        "outputId": "c9533cef-279f-488d-b408-ae3963dc73c1"
      },
      "execution_count": 66,
      "outputs": [
        {
          "output_type": "stream",
          "name": "stdout",
          "text": [
            "Random Forest Model : 75.00%\n"
          ]
        }
      ]
    },
    {
      "cell_type": "code",
      "source": [
        "confusion_matrix(y_test, pred)"
      ],
      "metadata": {
        "colab": {
          "base_uri": "https://localhost:8080/"
        },
        "id": "-ck8rSHpaTcN",
        "outputId": "e8d80f5e-4c8c-43e7-fe11-719af31f1eac"
      },
      "execution_count": 67,
      "outputs": [
        {
          "output_type": "execute_result",
          "data": {
            "text/plain": [
              "array([[24,  0,  2,  0,  2,  0,  0,  0],\n",
              "       [ 1,  2,  0,  0,  0,  0,  0,  0],\n",
              "       [ 0,  0,  3,  0,  0,  0,  0,  0],\n",
              "       [ 3,  0,  0,  0,  0,  0,  0,  0],\n",
              "       [ 0,  0,  0,  0,  1,  0,  0,  0],\n",
              "       [ 1,  0,  0,  0,  0,  0,  0,  0],\n",
              "       [ 0,  0,  0,  0,  0,  0,  0,  0],\n",
              "       [ 0,  0,  0,  0,  0,  0,  1,  0]])"
            ]
          },
          "metadata": {},
          "execution_count": 67
        }
      ]
    },
    {
      "cell_type": "code",
      "source": [
        "#Feature Scaling using sklearn Preprocessing Module\n",
        "from sklearn.preprocessing import StandardScaler\n",
        "scaler = StandardScaler()\n",
        "x_train = scaler.fit_transform(x_train)\n",
        "x_test = scaler.transform(x_test)"
      ],
      "metadata": {
        "id": "IZGox_lzaYBP"
      },
      "execution_count": 68,
      "outputs": []
    },
    {
      "cell_type": "code",
      "source": [
        "#X_train\n",
        "x_test"
      ],
      "metadata": {
        "colab": {
          "base_uri": "https://localhost:8080/"
        },
        "id": "RA3ECd2xabkk",
        "outputId": "1b99de8f-67a8-4c92-bb9d-643072ac4ce2"
      },
      "execution_count": 69,
      "outputs": [
        {
          "output_type": "execute_result",
          "data": {
            "text/plain": [
              "array([[-0.38402671, -0.27184367],\n",
              "       [-0.38402671, -0.27184367],\n",
              "       [ 0.05973749,  0.15651605],\n",
              "       [-0.82779091, -0.70020339],\n",
              "       [ 0.05973749,  0.15651605],\n",
              "       [ 0.05973749, -0.70020339],\n",
              "       [-0.82779091, -0.70020339],\n",
              "       [ 0.05973749, -0.70020339],\n",
              "       [-0.82779091, -0.70020339],\n",
              "       [ 0.05973749, -0.70020339],\n",
              "       [-0.82779091, -0.70020339],\n",
              "       [-0.82779091, -0.70020339],\n",
              "       [-0.38402671, -0.70020339],\n",
              "       [-0.82779091, -0.70020339],\n",
              "       [ 0.50350168,  0.58487577],\n",
              "       [ 0.05973749, -0.70020339],\n",
              "       [-0.82779091, -0.70020339],\n",
              "       [ 0.05973749,  0.15651605],\n",
              "       [ 0.05973749, -0.70020339],\n",
              "       [-0.82779091, -0.70020339],\n",
              "       [ 0.50350168,  0.58487577],\n",
              "       [-0.38402671, -0.27184367],\n",
              "       [-0.82779091, -0.70020339],\n",
              "       [ 0.05973749,  0.15651605],\n",
              "       [-0.82779091, -0.70020339],\n",
              "       [-0.82779091, -0.70020339],\n",
              "       [ 0.94726588,  1.01323549],\n",
              "       [-0.38402671, -0.27184367],\n",
              "       [ 0.05973749, -0.70020339],\n",
              "       [ 0.05973749,  0.15651605],\n",
              "       [-0.38402671, -0.27184367],\n",
              "       [-0.82779091, -0.70020339],\n",
              "       [ 0.05973749, -0.70020339],\n",
              "       [ 0.50350168,  0.58487577],\n",
              "       [-0.38402671, -0.27184367],\n",
              "       [ 0.94726588,  1.01323549],\n",
              "       [-0.82779091, -0.70020339],\n",
              "       [ 3.60985106,  3.58339381],\n",
              "       [-0.38402671, -0.27184367],\n",
              "       [-0.38402671, -0.27184367]])"
            ]
          },
          "metadata": {},
          "execution_count": 69
        }
      ]
    },
    {
      "cell_type": "code",
      "source": [
        "# Import Library\n",
        "from sklearn.svm import SVC  #Support Vector Classification module"
      ],
      "metadata": {
        "id": "BYMO3DdWahDY"
      },
      "execution_count": 70,
      "outputs": []
    },
    {
      "cell_type": "code",
      "source": [
        "svclassifier = SVC(kernel='linear')  \n",
        "svclassifier.fit(x_train, y_train)  #Train data"
      ],
      "metadata": {
        "colab": {
          "base_uri": "https://localhost:8080/"
        },
        "id": "5Cp95bieaiv_",
        "outputId": "8c369290-21f9-40f8-f404-41ad3e8880c7"
      },
      "execution_count": 71,
      "outputs": [
        {
          "output_type": "execute_result",
          "data": {
            "text/plain": [
              "SVC(kernel='linear')"
            ]
          },
          "metadata": {},
          "execution_count": 71
        }
      ]
    },
    {
      "cell_type": "code",
      "source": [
        "#Making Prediction\n",
        "y_pred = svclassifier.predict(x_test)"
      ],
      "metadata": {
        "id": "SXyeELZDamdd"
      },
      "execution_count": 72,
      "outputs": []
    },
    {
      "cell_type": "code",
      "source": [
        "print(\"Support Vector Classifier : {:.2f}%\".format(accuracy_score(pred,y_test)*100))"
      ],
      "metadata": {
        "colab": {
          "base_uri": "https://localhost:8080/"
        },
        "id": "sCkl3A9Oap2j",
        "outputId": "a89c3120-0117-4d93-9d29-421c7e9f22a2"
      },
      "execution_count": 73,
      "outputs": [
        {
          "output_type": "stream",
          "name": "stdout",
          "text": [
            "Support Vector Classifier : 75.00%\n"
          ]
        }
      ]
    },
    {
      "cell_type": "code",
      "source": [
        "# Import Library\n",
        "from sklearn.neighbors import KNeighborsClassifier"
      ],
      "metadata": {
        "id": "txnZmG9tatNr"
      },
      "execution_count": 74,
      "outputs": []
    },
    {
      "cell_type": "code",
      "source": [
        "knnclassifier = KNeighborsClassifier()\n",
        "knnclassifier.fit(x_train, y_train)  #Train data"
      ],
      "metadata": {
        "colab": {
          "base_uri": "https://localhost:8080/"
        },
        "id": "DS5dp4zHazSg",
        "outputId": "8605b182-d1bd-4edd-f96c-bee2301daac0"
      },
      "execution_count": 75,
      "outputs": [
        {
          "output_type": "execute_result",
          "data": {
            "text/plain": [
              "KNeighborsClassifier()"
            ]
          },
          "metadata": {},
          "execution_count": 75
        }
      ]
    },
    {
      "cell_type": "code",
      "source": [
        "#Making Prediction\n",
        "y_pred = knnclassifier.predict(x_test)"
      ],
      "metadata": {
        "id": "mxoZD6jda1dF"
      },
      "execution_count": 76,
      "outputs": []
    },
    {
      "cell_type": "code",
      "source": [
        "print(\"K-Nearest Neighbour Classifier : {:.2f}%\".format(accuracy_score(pred,y_test)*100))"
      ],
      "metadata": {
        "colab": {
          "base_uri": "https://localhost:8080/"
        },
        "id": "NMiroSJBa706",
        "outputId": "186a75ce-f011-4bcc-f317-002e88cae539"
      },
      "execution_count": 77,
      "outputs": [
        {
          "output_type": "stream",
          "name": "stdout",
          "text": [
            "K-Nearest Neighbour Classifier : 75.00%\n"
          ]
        }
      ]
    },
    {
      "cell_type": "code",
      "source": [
        "df.plot(x='Service_passport', y='Diplomatic_passport', kind='scatter',\n",
        "        figsize=(10,6),\n",
        "        title='visa in russia')"
      ],
      "metadata": {
        "colab": {
          "base_uri": "https://localhost:8080/",
          "height": 422
        },
        "id": "DeX4PhkKbBUa",
        "outputId": "c8186c5b-322b-47b3-cb12-30bfb4fac9f8"
      },
      "execution_count": 79,
      "outputs": [
        {
          "output_type": "execute_result",
          "data": {
            "text/plain": [
              "<matplotlib.axes._subplots.AxesSubplot at 0x7f773967dc50>"
            ]
          },
          "metadata": {},
          "execution_count": 79
        },
        {
          "output_type": "display_data",
          "data": {
            "text/plain": [
              "<Figure size 720x432 with 1 Axes>"
            ],
            "image/png": "[encoded data removed]"
          },
          "metadata": {
            "needs_background": "light"
          }
        }
      ]
    },
    {
      "cell_type": "code",
      "source": [
        "df['Diplomatic_passport'].plot(kind='hist', figsize=(10,6), title='Visa in Russia')"
      ],
      "metadata": {
        "colab": {
          "base_uri": "https://localhost:8080/",
          "height": 407
        },
        "id": "opqQRelKcFu6",
        "outputId": "e6ed14cc-728f-4873-ca08-e450653b4b3e"
      },
      "execution_count": 81,
      "outputs": [
        {
          "output_type": "execute_result",
          "data": {
            "text/plain": [
              "<matplotlib.axes._subplots.AxesSubplot at 0x7f7739514210>"
            ]
          },
          "metadata": {},
          "execution_count": 81
        },
        {
          "output_type": "display_data",
          "data": {
            "text/plain": [
              "<Figure size 720x432 with 1 Axes>"
            ],
            "image/png": "[encoded data removed]"
          },
          "metadata": {
            "needs_background": "light"
          }
        }
      ]
    },
    {
      "cell_type": "code",
      "source": [
        "df['Service_passport'].plot(kind='hist', figsize=(10,6), title='Visa in Russia')"
      ],
      "metadata": {
        "colab": {
          "base_uri": "https://localhost:8080/",
          "height": 407
        },
        "id": "74wBruBlb_Xx",
        "outputId": "a9730a78-5b67-41e8-ed97-98cfae075f9c"
      },
      "execution_count": 80,
      "outputs": [
        {
          "output_type": "execute_result",
          "data": {
            "text/plain": [
              "<matplotlib.axes._subplots.AxesSubplot at 0x7f7739585cd0>"
            ]
          },
          "metadata": {},
          "execution_count": 80
        },
        {
          "output_type": "display_data",
          "data": {
            "text/plain": [
              "<Figure size 720x432 with 1 Axes>"
            ],
            "image/png": "[encoded data removed]"
          },
          "metadata": {
            "needs_background": "light"
          }
        }
      ]
    },
    {
      "cell_type": "code",
      "source": [
        "df['Civil_passport'].plot(kind='hist', figsize=(10,6), title='Visa in Russia')"
      ],
      "metadata": {
        "colab": {
          "base_uri": "https://localhost:8080/",
          "height": 407
        },
        "id": "iPN9fTTjcSU2",
        "outputId": "58213992-a102-4330-a718-269d75dda641"
      },
      "execution_count": 82,
      "outputs": [
        {
          "output_type": "execute_result",
          "data": {
            "text/plain": [
              "<matplotlib.axes._subplots.AxesSubplot at 0x7f773949ed50>"
            ]
          },
          "metadata": {},
          "execution_count": 82
        },
        {
          "output_type": "display_data",
          "data": {
            "text/plain": [
              "<Figure size 720x432 with 1 Axes>"
            ],
            "image/png": "[encoded data removed]"
          },
          "metadata": {
            "needs_background": "light"
          }
        }
      ]
    },
    {
      "cell_type": "code",
      "source": [
        "df = pd.DataFrame(np.random.randn(10,3),index=pd.date_range('1/1/2000',\n",
        "   periods=10), columns=list('ABC'))\n",
        "df.plot()\n",
        "#Diplomatic_passport=A\n",
        "#Service_passport=B\n",
        "#Civil_passport=c"
      ],
      "metadata": {
        "colab": {
          "base_uri": "https://localhost:8080/",
          "height": 306
        },
        "id": "7KOK1JbMcyt9",
        "outputId": "aaf36ad8-9e18-4736-e24a-67f457983903"
      },
      "execution_count": 87,
      "outputs": [
        {
          "output_type": "execute_result",
          "data": {
            "text/plain": [
              "<matplotlib.axes._subplots.AxesSubplot at 0x7f7739509f10>"
            ]
          },
          "metadata": {},
          "execution_count": 87
        },
        {
          "output_type": "display_data",
          "data": {
            "text/plain": [
              "<Figure size 432x288 with 1 Axes>"
            ],
            "image/png": "[encoded data removed]"
          },
          "metadata": {
            "needs_background": "light"
          }
        }
      ]
    },
    {
      "cell_type": "code",
      "source": [
        "df = pd.DataFrame(3 * np.random.rand(3), index=['Diplomatic_passport', 'Service_passport', 'Civil_passport'], columns=['x'])\n",
        "df.plot.pie(subplots=True)"
      ],
      "metadata": {
        "colab": {
          "base_uri": "https://localhost:8080/",
          "height": 283
        },
        "id": "qHEnQeIBdC_A",
        "outputId": "ed143159-d36d-4078-a455-e14be86a7c62"
      },
      "execution_count": 85,
      "outputs": [
        {
          "output_type": "execute_result",
          "data": {
            "text/plain": [
              "array([<matplotlib.axes._subplots.AxesSubplot object at 0x7f773a29b050>],\n",
              "      dtype=object)"
            ]
          },
          "metadata": {},
          "execution_count": 85
        },
        {
          "output_type": "display_data",
          "data": {
            "text/plain": [
              "<Figure size 432x288 with 1 Axes>"
            ],
            "image/png": "[encoded data removed]"
          },
          "metadata": {}
        }
      ]
    },
    {
      "cell_type": "code",
      "source": [
        "df = pd.DataFrame(np.random.rand(10, 3), columns=['Diplomatic_passport', 'Service_passport', 'Civil_passport'])\n",
        "df.plot.area()"
      ],
      "metadata": {
        "colab": {
          "base_uri": "https://localhost:8080/",
          "height": 282
        },
        "id": "6Cn_CB-Sd0mg",
        "outputId": "b3bdb505-2815-45fe-8d5c-017279dfcdeb"
      },
      "execution_count": 88,
      "outputs": [
        {
          "output_type": "execute_result",
          "data": {
            "text/plain": [
              "<matplotlib.axes._subplots.AxesSubplot at 0x7f7739273910>"
            ]
          },
          "metadata": {},
          "execution_count": 88
        },
        {
          "output_type": "display_data",
          "data": {
            "text/plain": [
              "<Figure size 432x288 with 1 Axes>"
            ],
            "image/png": "[encoded data removed]"
          },
          "metadata": {
            "needs_background": "light"
          }
        }
      ]
    },
    {
      "cell_type": "code",
      "source": [
        "                        #Thank You#"
      ],
      "metadata": {
        "id": "tC8M7OKfeD9r"
      },
      "execution_count": null,
      "outputs": []
    }
  ]
}